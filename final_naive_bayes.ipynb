{
 "cells": [
  {
   "cell_type": "markdown",
   "id": "249308e2",
   "metadata": {},
   "source": [
    "Peter Ling\n",
    "NAÏVE BAYES ALGORITHM"
   ]
  },
  {
   "cell_type": "code",
   "execution_count": null,
   "id": "461c039b",
   "metadata": {},
   "outputs": [],
   "source": [
    "import csv\n",
    "import numpy as np\n",
    "import pandas as pd\n",
    "import math\n",
    "from operator import itemgetter"
   ]
  },
  {
   "cell_type": "markdown",
   "id": "1b3c0e07",
   "metadata": {},
   "source": [
    "In my implementation of the naive bayes algorithm, I take in training data as a dataframe in which the parameters are the columns and each row is a different data point. The last column will be the output, which will be 0 or 1."
   ]
  },
  {
   "cell_type": "markdown",
   "id": "941ea3c9",
   "metadata": {},
   "source": [
    "Naïve Bayes can be done with either MLE or Laplace estimation, and my function allows the user to choose their preference with the laplace parameter to the get_thetas function. laplace = True would use laplace estimation, while laplace = False would train the model using MLE."
   ]
  },
  {
   "cell_type": "code",
   "execution_count": null,
   "id": "8251713f",
   "metadata": {},
   "outputs": [],
   "source": [
    "def get_conditional_probabilities(training_df, laplace): \n",
    "    \n",
    "    n_params = len(training_df.columns) - 1\n",
    "    n_examples = len(training_df)\n",
    "\n",
    "    c_probs = []\n",
    "\n",
    "    for param in range(n_params): # 0 then 1 then 2... 0indexed\n",
    "\n",
    "        param0_given_0 = 0\n",
    "        param1_given_0 = 0\n",
    "\n",
    "        param0_given_1 = 0\n",
    "        param1_given_1 = 0\n",
    "\n",
    "        count_y0 = 0\n",
    "        count_y1 = 0\n",
    "\n",
    "        row = 0\n",
    "        while row < n_examples:\n",
    "\n",
    "            training_df_value = training_df.iloc[row][param]\n",
    "            output = training_df.iloc[row][n_params]\n",
    "            if (training_df.iloc[row][n_params] == 0): # CHECK IF OUTPUT IS 0\n",
    "                count_y0 += 1\n",
    "                if training_df.iloc[row][param] == 0:\n",
    "                    param0_given_0 += 1\n",
    "                else:\n",
    "                    param1_given_0 += 1\n",
    "\n",
    "            else: # OUTPUT IS 1\n",
    "                count_y1 += 1\n",
    "                if training_df.iloc[row][param] == 0:\n",
    "                    param0_given_1 += 1\n",
    "                else:\n",
    "                    param1_given_1 += 1\n",
    "\n",
    "            row += 1\n",
    "            \n",
    "            \n",
    "        if laplace:\n",
    "            c_probs.append([(param0_given_0 + 1) / (count_y0 + 2), (param0_given_1 + 1) / (count_y1 + 2), (param1_given_0 + 1) / (count_y0 + 2), (param1_given_1 + 1) / (count_y1 + 2)])\n",
    "        else:\n",
    "            c_probs.append([param0_given_0 / count_y0, param0_given_1 / count_y1, param1_given_0 / count_y0, param1_given_1 / count_y1])\n",
    "        count_training_examples = count_y0 + count_y1\n",
    "        \n",
    "        \n",
    "    return c_probs\n"
   ]
  },
  {
   "cell_type": "markdown",
   "id": "51865766",
   "metadata": {},
   "source": [
    "After get_conditional_probabilities() has run, it will return a 2d list. Within the large list, each list will represent "
   ]
  },
  {
   "cell_type": "code",
   "execution_count": null,
   "id": "69f64f21",
   "metadata": {},
   "outputs": [],
   "source": [
    "def test_naive_bayes(test_df, c_probs, laplace): \n",
    "    n_params = len(test_df.columns) - 1\n",
    "    n_tests = len(test_df)\n",
    "    predictions = []\n",
    "    \n",
    "    row = 0\n",
    "    while row < n_tests: # ROW = EXAMPLE\n",
    "        log_sum_y0 = 0\n",
    "        log_sum_y1 = 0\n",
    "\n",
    "        product_y0 = 1\n",
    "        product_y1 = 1\n",
    "        for param in range(n_params):\n",
    "            param_probs = c_probs[param] # Gives the probabilities for the given parameter\n",
    "\n",
    "\n",
    "            # First we need to see what the value of the test's parameter is\n",
    "            location_value = test_df.iloc[row][param]\n",
    "            if test_df.iloc[row][param] == 0:\n",
    "                if param_probs[0] != 0:\n",
    "                    log_sum_y0 += math.log(param_probs[0])\n",
    "\n",
    "                elif not laplace:\n",
    "                    log_sum_y0 += math.log(0.001)\n",
    "\n",
    "\n",
    "                if param_probs[1] != 0:\n",
    "                    log_sum_y1 += math.log(param_probs[1])\n",
    "\n",
    "                elif not laplace:\n",
    "                    log_sum_y1 += math.log(0.001)\n",
    "\n",
    "            else:\n",
    "                if param_probs[2] != 0:\n",
    "                    log_sum_y0 += math.log(param_probs[2])\n",
    "\n",
    "                elif not laplace:\n",
    "                    log_sum_y0 += math.log(0.001)\n",
    "\n",
    "                if param_probs[3] != 0:\n",
    "                    log_sum_y1 += math.log(param_probs[3])\n",
    "\n",
    "                elif not laplace:\n",
    "                    log_sum_y1 += math.log(0.001)\n",
    "\n",
    "\n",
    "        prob_y0 = math.log(count_y0 / count_training_examples) + log_sum_y0\n",
    "        prob_y1 = math.log(count_y1 / count_training_examples) + log_sum_y1\n",
    "        \n",
    "        \n",
    "        if (prob_y0 > prob_y1):\n",
    "            predictions.append(0)\n",
    "        else:\n",
    "            predictions.append(1)\n",
    "            \n",
    "        row += 1\n",
    "        "
   ]
  }
 ],
 "metadata": {
  "kernelspec": {
   "display_name": "Python 3",
   "language": "python",
   "name": "python3"
  },
  "language_info": {
   "codemirror_mode": {
    "name": "ipython",
    "version": 3
   },
   "file_extension": ".py",
   "mimetype": "text/x-python",
   "name": "python",
   "nbconvert_exporter": "python",
   "pygments_lexer": "ipython3",
   "version": "3.8.8"
  }
 },
 "nbformat": 4,
 "nbformat_minor": 5
}
